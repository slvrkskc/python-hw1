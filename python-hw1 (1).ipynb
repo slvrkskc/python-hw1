{
 "cells": [
  {
   "cell_type": "code",
   "execution_count": 7,
   "id": "622b27ed-8e44-4164-b9a3-c96b0048d328",
   "metadata": {},
   "outputs": [
    {
     "name": "stdin",
     "output_type": "stream",
     "text": [
      "Enter your name:  selver\n",
      "Enter your age:  20\n",
      "Enter your height:  167\n"
     ]
    }
   ],
   "source": [
    "#TASK1#\n",
    "name = input(\"Enter your name: \")\n",
    "age = input(\"Enter your age: \")\n",
    "height = input(\"Enter your height: \")"
   ]
  },
  {
   "cell_type": "code",
   "execution_count": 9,
   "id": "41d21d8c-b93a-413a-95e0-fe76db3f7a31",
   "metadata": {},
   "outputs": [
    {
     "name": "stdout",
     "output_type": "stream",
     "text": [
      "selver 20 167\n"
     ]
    }
   ],
   "source": [
    "print(name, age, height)"
   ]
  },
  {
   "cell_type": "code",
   "execution_count": 17,
   "id": "51949829-7004-4246-a43d-5cce23e328e5",
   "metadata": {},
   "outputs": [],
   "source": [
    "#TASK2#\n",
    "math_score = 50\n",
    "physics_score = 70\n",
    "chemistry_score = 80\n",
    "average = (math_score + physics_score + chemistry_score) / 3"
   ]
  },
  {
   "cell_type": "code",
   "execution_count": 19,
   "id": "f136daa5-df9e-4e02-9205-dd5bdf264bf1",
   "metadata": {},
   "outputs": [
    {
     "name": "stdout",
     "output_type": "stream",
     "text": [
      "66.66666666666667\n"
     ]
    }
   ],
   "source": [
    "print(float(average))"
   ]
  },
  {
   "cell_type": "code",
   "execution_count": 21,
   "id": "fce8b04e-9596-4c7d-a289-f3ee30891279",
   "metadata": {},
   "outputs": [],
   "source": [
    "#TASK3#\n",
    "bookname = 'denemeler'"
   ]
  },
  {
   "cell_type": "code",
   "execution_count": 23,
   "id": "37d049a9-975b-42ea-9bd8-6a6a3be613fb",
   "metadata": {},
   "outputs": [
    {
     "data": {
      "text/plain": [
       "'d'"
      ]
     },
     "execution_count": 23,
     "metadata": {},
     "output_type": "execute_result"
    }
   ],
   "source": [
    "bookname[0]"
   ]
  },
  {
   "cell_type": "code",
   "execution_count": 25,
   "id": "35ebdc02-23ec-4524-8932-568f355af25d",
   "metadata": {},
   "outputs": [
    {
     "data": {
      "text/plain": [
       "'r'"
      ]
     },
     "execution_count": 25,
     "metadata": {},
     "output_type": "execute_result"
    }
   ],
   "source": [
    "bookname[-1]"
   ]
  },
  {
   "cell_type": "code",
   "execution_count": 31,
   "id": "2442ee86-6943-40ba-acf8-3ed58e37dfcd",
   "metadata": {},
   "outputs": [
    {
     "data": {
      "text/plain": [
       "9"
      ]
     },
     "execution_count": 31,
     "metadata": {},
     "output_type": "execute_result"
    }
   ],
   "source": [
    "len(bookname)"
   ]
  },
  {
   "cell_type": "code",
   "execution_count": 35,
   "id": "9a28b153-fb3e-4989-ad7f-2dfeba42d337",
   "metadata": {},
   "outputs": [
    {
     "data": {
      "text/plain": [
       "'relemened'"
      ]
     },
     "execution_count": 35,
     "metadata": {},
     "output_type": "execute_result"
    }
   ],
   "source": [
    "bookname[::-1]"
   ]
  },
  {
   "cell_type": "code",
   "execution_count": 51,
   "id": "9d98ed9c-2706-4ab1-95b7-aee06e12196e",
   "metadata": {},
   "outputs": [
    {
     "name": "stdin",
     "output_type": "stream",
     "text": [
      "Enter first number:  44\n",
      "Enter second number:  3\n"
     ]
    }
   ],
   "source": [
    "#TASK4#\n",
    "num1 = int(input(\"Enter first number: \"))\n",
    "num2 = int(input(\"Enter second number: \"))"
   ]
  },
  {
   "cell_type": "code",
   "execution_count": 71,
   "id": "72c7a45a-5414-4e48-8d59-085a236c2dfb",
   "metadata": {},
   "outputs": [
    {
     "data": {
      "text/plain": [
       "47"
      ]
     },
     "execution_count": 71,
     "metadata": {},
     "output_type": "execute_result"
    }
   ],
   "source": [
    "num1 + num2 "
   ]
  },
  {
   "cell_type": "code",
   "execution_count": 57,
   "id": "67579c5b-7b69-4fa5-be29-0511a1b94673",
   "metadata": {},
   "outputs": [
    {
     "data": {
      "text/plain": [
       "41"
      ]
     },
     "execution_count": 57,
     "metadata": {},
     "output_type": "execute_result"
    }
   ],
   "source": [
    "num1 - num2"
   ]
  },
  {
   "cell_type": "code",
   "execution_count": 65,
   "id": "c909f664-59af-4243-9fca-d7c9068a2674",
   "metadata": {},
   "outputs": [
    {
     "data": {
      "text/plain": [
       "9"
      ]
     },
     "execution_count": 65,
     "metadata": {},
     "output_type": "execute_result"
    }
   ],
   "source": [
    "num2 * num2"
   ]
  },
  {
   "cell_type": "code",
   "execution_count": 67,
   "id": "58d9d4e2-0889-489d-b09d-2fe5534baa6f",
   "metadata": {},
   "outputs": [
    {
     "data": {
      "text/plain": [
       "14.666666666666666"
      ]
     },
     "execution_count": 67,
     "metadata": {},
     "output_type": "execute_result"
    }
   ],
   "source": [
    "num1 / num2\n"
   ]
  },
  {
   "cell_type": "code",
   "execution_count": 69,
   "id": "1b3034c6-e53e-42b9-b6ba-bd927ff422d6",
   "metadata": {},
   "outputs": [
    {
     "data": {
      "text/plain": [
       "2"
      ]
     },
     "execution_count": 69,
     "metadata": {},
     "output_type": "execute_result"
    }
   ],
   "source": [
    "num1 % num2"
   ]
  },
  {
   "cell_type": "code",
   "execution_count": 77,
   "id": "4e162c22-6bc5-4c43-b553-09aa6f734ac0",
   "metadata": {},
   "outputs": [
    {
     "name": "stdin",
     "output_type": "stream",
     "text": [
      "Enter your average:  51\n"
     ]
    },
    {
     "name": "stdout",
     "output_type": "stream",
     "text": [
      "Geçti\n"
     ]
    }
   ],
   "source": [
    "#TASK5#\n",
    "average_ = int(input(\"Enter your average: \"))\n",
    "if average_ >= 50:\n",
    "    print('Geçti')\n",
    "else:\n",
    "    print('Kaldı')"
   ]
  },
  {
   "cell_type": "code",
   "execution_count": 81,
   "id": "45d72799-a33a-4b63-bd73-a51b0e348b7d",
   "metadata": {},
   "outputs": [
    {
     "name": "stdin",
     "output_type": "stream",
     "text": [
      "Enter your age:  15\n"
     ]
    },
    {
     "name": "stdout",
     "output_type": "stream",
     "text": [
      "Ehliyet alamazsiniz\n"
     ]
    }
   ],
   "source": [
    "#TASK6#\n",
    "user_age = int(input(\"Enter your age: \"))\n",
    "if user_age >= 18:\n",
    "    print(\"Ehliyet alabilirsiniz\")\n",
    "else:\n",
    "    print(\"Ehliyet alamazsiniz\")"
   ]
  },
  {
   "cell_type": "code",
   "execution_count": 89,
   "id": "7c258df4-f863-4d19-a898-627634262ef4",
   "metadata": {},
   "outputs": [
    {
     "name": "stdin",
     "output_type": "stream",
     "text": [
      "Enter a fee of product:  450\n",
      "Enter discount rate(%):  25\n"
     ]
    },
    {
     "name": "stdout",
     "output_type": "stream",
     "text": [
      "337.5\n"
     ]
    }
   ],
   "source": [
    "#TASK7#\n",
    "product_price = float(input(\"Enter a fee of product: \"))\n",
    "discount_rate = float(input(\"Enter discount rate(%): \"))\n",
    "discounted_price = product_price - (product_price*discount_rate/100)\n",
    "print(discounted_price)"
   ]
  },
  {
   "cell_type": "code",
   "execution_count": 113,
   "id": "0b09ec47-b78d-4905-b223-8022f8db19d1",
   "metadata": {},
   "outputs": [
    {
     "name": "stdout",
     "output_type": "stream",
     "text": [
      "True\n",
      "False\n"
     ]
    }
   ],
   "source": [
    "#TASK8#\n",
    "var1 = 'a' < 'z'\n",
    "var2 = 'e' == 'u'\n",
    "print(var1)\n",
    "print(var2)"
   ]
  },
  {
   "cell_type": "code",
   "execution_count": 105,
   "id": "7f21da32-6a03-470f-86e1-98f2a6be1a64",
   "metadata": {},
   "outputs": [
    {
     "name": "stdout",
     "output_type": "stream",
     "text": [
      "False\n"
     ]
    }
   ],
   "source": [
    "print(var1 and var2) "
   ]
  },
  {
   "cell_type": "code",
   "execution_count": 107,
   "id": "7f22863c-3329-46b0-9fe4-5ab5ff6a5929",
   "metadata": {},
   "outputs": [
    {
     "name": "stdout",
     "output_type": "stream",
     "text": [
      "True\n"
     ]
    }
   ],
   "source": [
    "print(var1 or var2) "
   ]
  },
  {
   "cell_type": "code",
   "execution_count": 119,
   "id": "c4e16a8e-ce6f-47b8-a0e1-bc53de8595af",
   "metadata": {},
   "outputs": [
    {
     "data": {
      "text/plain": [
       "False"
      ]
     },
     "execution_count": 119,
     "metadata": {},
     "output_type": "execute_result"
    }
   ],
   "source": [
    "not(var1)"
   ]
  },
  {
   "cell_type": "code",
   "execution_count": 125,
   "id": "c888fbff-bb8f-4cb8-9917-c945f9e4e5f4",
   "metadata": {},
   "outputs": [
    {
     "name": "stdin",
     "output_type": "stream",
     "text": [
      " price of apple:  50\n",
      "price of pear:  75\n",
      "price of kiwi:  90\n"
     ]
    },
    {
     "name": "stdout",
     "output_type": "stream",
     "text": [
      "193.5\n"
     ]
    }
   ],
   "source": [
    "#TASK9#\n",
    "elma = int(input(\" price of apple: \"))\n",
    "armut = int(input(\"price of pear: \"))\n",
    "kivi = int(input(\"price of kiwi: \"))\n",
    "total = elma + armut + kivi\n",
    "if total > 200:\n",
    "    total = total - (total*10 / 100)\n",
    "print(total)"
   ]
  },
  {
   "cell_type": "code",
   "execution_count": 1,
   "id": "724b2731-a5c4-4936-a9c9-b2121cb311cc",
   "metadata": {},
   "outputs": [
    {
     "name": "stdin",
     "output_type": "stream",
     "text": [
      "Enter your birth year:  2005\n"
     ]
    },
    {
     "name": "stdout",
     "output_type": "stream",
     "text": [
      "Yetişkinsiniz\n"
     ]
    }
   ],
   "source": [
    "#TASK10#\n",
    "dogum_yili = int(input(\"Enter your birth year: \"))\n",
    "guncel_yil = 2025\n",
    "yas = guncel_yil - dogum_yili\n",
    "if yas >= 0 and yas <= 12:\n",
    "    print(\"Çocuksunuz\")\n",
    "elif yas >= 13 and yas <= 17:\n",
    "    print(\"Ergensiniz\")\n",
    "else:\n",
    "    print(\"Yetişkinsiniz\")"
   ]
  },
  {
   "cell_type": "code",
   "execution_count": null,
   "id": "f58f8be6-9ce6-43a0-9971-56913a3be19d",
   "metadata": {},
   "outputs": [],
   "source": []
  }
 ],
 "metadata": {
  "kernelspec": {
   "display_name": "Python 3 (ipykernel)",
   "language": "python",
   "name": "python3"
  },
  "language_info": {
   "codemirror_mode": {
    "name": "ipython",
    "version": 3
   },
   "file_extension": ".py",
   "mimetype": "text/x-python",
   "name": "python",
   "nbconvert_exporter": "python",
   "pygments_lexer": "ipython3",
   "version": "3.11.5"
  }
 },
 "nbformat": 4,
 "nbformat_minor": 5
}
